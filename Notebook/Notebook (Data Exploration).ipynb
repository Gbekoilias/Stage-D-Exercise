{
 "cells": [
  {
   "cell_type": "code",
   "execution_count": 12,
   "metadata": {},
   "outputs": [
    {
     "name": "stderr",
     "output_type": "stream",
     "text": [
      "\n",
      "[notice] A new release of pip is available: 23.2.1 -> 23.3.1\n",
      "[notice] To update, run: C:\\Users\\DONKAMS\\AppData\\Local\\Microsoft\\WindowsApps\\PythonSoftwareFoundation.Python.3.11_qbz5n2kfra8p0\\python.exe -m pip install --upgrade pip\n"
     ]
    },
    {
     "name": "stdout",
     "output_type": "stream",
     "text": [
      "Collecting quantitiesNote: you may need to restart the kernel to use updated packages.\n",
      "\n",
      "  Downloading quantities-0.14.1-py3-none-any.whl (87 kB)\n",
      "     ---------------------------------------- 0.0/87.9 kB ? eta -:--:--\n",
      "     ---- ----------------------------------- 10.2/87.9 kB ? eta -:--:--\n",
      "     ---- ----------------------------------- 10.2/87.9 kB ? eta -:--:--\n",
      "     ---- ----------------------------------- 10.2/87.9 kB ? eta -:--:--\n",
      "     ------------- ------------------------ 30.7/87.9 kB 131.3 kB/s eta 0:00:01\n",
      "     ------------- ------------------------ 30.7/87.9 kB 131.3 kB/s eta 0:00:01\n",
      "     ----------------- -------------------- 41.0/87.9 kB 115.5 kB/s eta 0:00:01\n",
      "     ----------------- -------------------- 41.0/87.9 kB 115.5 kB/s eta 0:00:01\n",
      "     ----------------- -------------------- 41.0/87.9 kB 115.5 kB/s eta 0:00:01\n",
      "     ----------------- -------------------- 41.0/87.9 kB 115.5 kB/s eta 0:00:01\n",
      "     ----------------- -------------------- 41.0/87.9 kB 115.5 kB/s eta 0:00:01\n",
      "     ----------------- -------------------- 41.0/87.9 kB 115.5 kB/s eta 0:00:01\n",
      "     -------------------------------------- 87.9/87.9 kB 146.3 kB/s eta 0:00:00\n",
      "Requirement already satisfied: numpy>=1.19 in c:\\users\\donkams\\appdata\\local\\packages\\pythonsoftwarefoundation.python.3.11_qbz5n2kfra8p0\\localcache\\local-packages\\python311\\site-packages (from quantities) (1.25.2)\n",
      "Installing collected packages: quantities\n",
      "Successfully installed quantities-0.14.1\n"
     ]
    },
    {
     "name": "stderr",
     "output_type": "stream",
     "text": [
      "UsageError: Line magic function `%matplotlb` not found.\n"
     ]
    }
   ],
   "source": [
    "#import relevant libraries\n",
    "import pandas as pd\n",
    "import numpy as np\n",
    "import seaborn as sns\n",
    "import matplotlib.pyplot as plt\n",
    "import matplotlib.pylab as plb\n",
    "import os\n",
    "import warnings\n",
    "import json\n",
    "\n",
    "%pip install quantities\n",
    "\n",
    "\n",
    "from datetime import datetime\n",
    "from quantities import units\n",
    "\n",
    "%matplotlb inline\n",
    "warnings.filterwarnings('ignore')"
   ]
  },
  {
   "cell_type": "code",
   "execution_count": 7,
   "metadata": {},
   "outputs": [],
   "source": [
    "#load all related dataset\n",
    "df_prod= pd.read_csv('C:/Users/DONKAMS/Downloads/Stage-D-Exercise/Dataset (Prep)/Africa Food Production (2004 - 2013).csv')\n",
    "df_supp= pd.read_csv('C:/Users/DONKAMS/Downloads/Stage-D-Exercise/Dataset (Prep)/Africa Food Supply (2004 - 2013).csv')"
   ]
  },
  {
   "cell_type": "code",
   "execution_count": 9,
   "metadata": {},
   "outputs": [
    {
     "data": {
      "text/html": [
       "<div>\n",
       "<style scoped>\n",
       "    .dataframe tbody tr th:only-of-type {\n",
       "        vertical-align: middle;\n",
       "    }\n",
       "\n",
       "    .dataframe tbody tr th {\n",
       "        vertical-align: top;\n",
       "    }\n",
       "\n",
       "    .dataframe thead th {\n",
       "        text-align: right;\n",
       "    }\n",
       "</style>\n",
       "<table border=\"1\" class=\"dataframe\">\n",
       "  <thead>\n",
       "    <tr style=\"text-align: right;\">\n",
       "      <th></th>\n",
       "      <th>Country</th>\n",
       "      <th>Item</th>\n",
       "      <th>Year</th>\n",
       "      <th>Value</th>\n",
       "    </tr>\n",
       "  </thead>\n",
       "  <tbody>\n",
       "    <tr>\n",
       "      <th>2641</th>\n",
       "      <td>Cabo Verde</td>\n",
       "      <td>Beer</td>\n",
       "      <td>2005</td>\n",
       "      <td>2</td>\n",
       "    </tr>\n",
       "    <tr>\n",
       "      <th>20114</th>\n",
       "      <td>Tunisia</td>\n",
       "      <td>Sweeteners, Other</td>\n",
       "      <td>2008</td>\n",
       "      <td>3</td>\n",
       "    </tr>\n",
       "    <tr>\n",
       "      <th>22043</th>\n",
       "      <td>Zambia</td>\n",
       "      <td>Sorghum and products</td>\n",
       "      <td>2007</td>\n",
       "      <td>13</td>\n",
       "    </tr>\n",
       "    <tr>\n",
       "      <th>4254</th>\n",
       "      <td>Chad</td>\n",
       "      <td>Butter, Ghee</td>\n",
       "      <td>2008</td>\n",
       "      <td>0</td>\n",
       "    </tr>\n",
       "    <tr>\n",
       "      <th>13035</th>\n",
       "      <td>Mauritius</td>\n",
       "      <td>Eggs</td>\n",
       "      <td>2009</td>\n",
       "      <td>10</td>\n",
       "    </tr>\n",
       "  </tbody>\n",
       "</table>\n",
       "</div>"
      ],
      "text/plain": [
       "          Country                  Item  Year  Value\n",
       "2641   Cabo Verde                  Beer  2005      2\n",
       "20114     Tunisia     Sweeteners, Other  2008      3\n",
       "22043      Zambia  Sorghum and products  2007     13\n",
       "4254         Chad          Butter, Ghee  2008      0\n",
       "13035   Mauritius                  Eggs  2009     10"
      ]
     },
     "execution_count": 9,
     "metadata": {},
     "output_type": "execute_result"
    }
   ],
   "source": [
    "#check the out\n",
    "df_prod.sample(5)"
   ]
  },
  {
   "cell_type": "code",
   "execution_count": 10,
   "metadata": {},
   "outputs": [
    {
     "data": {
      "text/html": [
       "<div>\n",
       "<style scoped>\n",
       "    .dataframe tbody tr th:only-of-type {\n",
       "        vertical-align: middle;\n",
       "    }\n",
       "\n",
       "    .dataframe tbody tr th {\n",
       "        vertical-align: top;\n",
       "    }\n",
       "\n",
       "    .dataframe thead th {\n",
       "        text-align: right;\n",
       "    }\n",
       "</style>\n",
       "<table border=\"1\" class=\"dataframe\">\n",
       "  <thead>\n",
       "    <tr style=\"text-align: right;\">\n",
       "      <th></th>\n",
       "      <th>Country</th>\n",
       "      <th>Year</th>\n",
       "      <th>Value</th>\n",
       "    </tr>\n",
       "  </thead>\n",
       "  <tbody>\n",
       "    <tr>\n",
       "      <th>424</th>\n",
       "      <td>United Republic of Tanzania</td>\n",
       "      <td>2008</td>\n",
       "      <td>2132</td>\n",
       "    </tr>\n",
       "    <tr>\n",
       "      <th>276</th>\n",
       "      <td>Morocco</td>\n",
       "      <td>2010</td>\n",
       "      <td>3294</td>\n",
       "    </tr>\n",
       "    <tr>\n",
       "      <th>19</th>\n",
       "      <td>Angola</td>\n",
       "      <td>2013</td>\n",
       "      <td>2473</td>\n",
       "    </tr>\n",
       "    <tr>\n",
       "      <th>354</th>\n",
       "      <td>Sierra Leone</td>\n",
       "      <td>2008</td>\n",
       "      <td>2197</td>\n",
       "    </tr>\n",
       "    <tr>\n",
       "      <th>177</th>\n",
       "      <td>Guinea</td>\n",
       "      <td>2011</td>\n",
       "      <td>2546</td>\n",
       "    </tr>\n",
       "  </tbody>\n",
       "</table>\n",
       "</div>"
      ],
      "text/plain": [
       "                         Country  Year  Value\n",
       "424  United Republic of Tanzania  2008   2132\n",
       "276                      Morocco  2010   3294\n",
       "19                        Angola  2013   2473\n",
       "354                 Sierra Leone  2008   2197\n",
       "177                       Guinea  2011   2546"
      ]
     },
     "execution_count": 10,
     "metadata": {},
     "output_type": "execute_result"
    }
   ],
   "source": [
    "df_supp.sample(5)"
   ]
  },
  {
   "cell_type": "code",
   "execution_count": null,
   "metadata": {},
   "outputs": [],
   "source": [
    "#function to convert date strings to DateObjects\n",
    "def convert_to_date_object(date_str):\n",
    "    # Convert a date string to a DateObject\n",
    "    return datetime.strptime(date_str, '%Y-%m-%d').date()\n",
    "\n",
    "#function to add units to values, returning them as Quantities.\n",
    "def add_units_to_value(value, unit='kilotons'):\n",
    "    # Add units to a value and return it as a Quantity\n",
    "    if unit == 'kilotons':\n",
    "        return value * units.kiloton\n",
    "    else:\n",
    "        # You can add more unit options as needed\n",
    "        return value * units(unit)\n",
    "\n",
    "# Example usage:\n",
    "date_str = df_prod['Year']\n",
    "date_object = convert_to_date_object(date_str)\n",
    "value = df_prod['Value']  # Assuming a value of 1000\n",
    "quantity = add_units_to_value(value)\n",
    "\n",
    "print(\"DateObject:\", date_object)\n",
    "print(\"Quantity:\", quantity)"
   ]
  },
  {
   "cell_type": "code",
   "execution_count": 19,
   "metadata": {},
   "outputs": [
    {
     "ename": "AttributeError",
     "evalue": "module 'quantities.units' has no attribute 'kiloton'",
     "output_type": "error",
     "traceback": [
      "\u001b[1;31m---------------------------------------------------------------------------\u001b[0m",
      "\u001b[1;31mAttributeError\u001b[0m                            Traceback (most recent call last)",
      "\u001b[1;32mc:\\Users\\DONKAMS\\Downloads\\Stage-D-Exercise\\Notebook\\Notebook (Data Exploration).ipynb Cell 6\u001b[0m line \u001b[0;36m6\n\u001b[0;32m      <a href='vscode-notebook-cell:/c%3A/Users/DONKAMS/Downloads/Stage-D-Exercise/Notebook/Notebook%20%28Data%20Exploration%29.ipynb#X12sZmlsZQ%3D%3D?line=2'>3</a>\u001b[0m \u001b[39mfrom\u001b[39;00m \u001b[39mquantities\u001b[39;00m \u001b[39mimport\u001b[39;00m units, Quantity\n\u001b[0;32m      <a href='vscode-notebook-cell:/c%3A/Users/DONKAMS/Downloads/Stage-D-Exercise/Notebook/Notebook%20%28Data%20Exploration%29.ipynb#X12sZmlsZQ%3D%3D?line=4'>5</a>\u001b[0m \u001b[39m# Define a custom unit for kilotons\u001b[39;00m\n\u001b[1;32m----> <a href='vscode-notebook-cell:/c%3A/Users/DONKAMS/Downloads/Stage-D-Exercise/Notebook/Notebook%20%28Data%20Exploration%29.ipynb#X12sZmlsZQ%3D%3D?line=5'>6</a>\u001b[0m kiloton \u001b[39m=\u001b[39m Quantity(\u001b[39m1\u001b[39m, units\u001b[39m.\u001b[39;49mkiloton)\n\u001b[0;32m      <a href='vscode-notebook-cell:/c%3A/Users/DONKAMS/Downloads/Stage-D-Exercise/Notebook/Notebook%20%28Data%20Exploration%29.ipynb#X12sZmlsZQ%3D%3D?line=7'>8</a>\u001b[0m \u001b[39mdef\u001b[39;00m \u001b[39mconvert_to_date_object\u001b[39m(year):\n\u001b[0;32m      <a href='vscode-notebook-cell:/c%3A/Users/DONKAMS/Downloads/Stage-D-Exercise/Notebook/Notebook%20%28Data%20Exploration%29.ipynb#X12sZmlsZQ%3D%3D?line=8'>9</a>\u001b[0m     \u001b[39m# Convert a year to a DateObject\u001b[39;00m\n\u001b[0;32m     <a href='vscode-notebook-cell:/c%3A/Users/DONKAMS/Downloads/Stage-D-Exercise/Notebook/Notebook%20%28Data%20Exploration%29.ipynb#X12sZmlsZQ%3D%3D?line=9'>10</a>\u001b[0m     \u001b[39mreturn\u001b[39;00m datetime(year, \u001b[39m1\u001b[39m, \u001b[39m1\u001b[39m)\u001b[39m.\u001b[39mdate()\n",
      "\u001b[1;31mAttributeError\u001b[0m: module 'quantities.units' has no attribute 'kiloton'"
     ]
    }
   ],
   "source": [
    "from datetime import datetime\n",
    "import pandas as pd\n",
    "from quantities import units, Quantity\n",
    "\n",
    "# Define a custom unit for kilotons\n",
    "kiloton = Quantity(1, units.kiloton)\n",
    "\n",
    "def convert_to_date_object(year):\n",
    "    # Convert a year to a DateObject\n",
    "    return datetime(year, 1, 1).date()\n",
    "\n",
    "def add_units_to_value(value, unit='kilotons'):\n",
    "    # Add units to a value and return it as a Quantity\n",
    "    if unit == 'kilotons':\n",
    "        return value * kiloton\n",
    "    else:\n",
    "        # You can add more unit options as needed\n",
    "        return Quantity(value, units(unit))\n",
    "\n",
    "# Example usage with your data\n",
    "data = df_prod\n",
    "\n",
    "data['DateObject'] = data['Year'].apply(convert_to_date_object)\n",
    "data['Quantity'] = data.apply(lambda row: add_units_to_value(row['Value'], row['Item']), axis=1)\n",
    "\n",
    "print(data)\n"
   ]
  },
  {
   "cell_type": "code",
   "execution_count": 20,
   "metadata": {},
   "outputs": [
    {
     "data": {
      "text/plain": [
       "((23110, 5), (450, 3))"
      ]
     },
     "execution_count": 20,
     "metadata": {},
     "output_type": "execute_result"
    }
   ],
   "source": [
    "df_prod.shape, df_supp.shape"
   ]
  },
  {
   "cell_type": "code",
   "execution_count": null,
   "metadata": {},
   "outputs": [],
   "source": []
  }
 ],
 "metadata": {
  "kernelspec": {
   "display_name": "Python 3",
   "language": "python",
   "name": "python3"
  },
  "language_info": {
   "codemirror_mode": {
    "name": "ipython",
    "version": 3
   },
   "file_extension": ".py",
   "mimetype": "text/x-python",
   "name": "python",
   "nbconvert_exporter": "python",
   "pygments_lexer": "ipython3",
   "version": "3.11.6"
  }
 },
 "nbformat": 4,
 "nbformat_minor": 2
}
